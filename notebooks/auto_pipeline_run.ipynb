{
 "cells": [
  {
   "cell_type": "markdown",
   "metadata": {
    "id": "sW4FpPGRQhmx"
   },
   "source": [
    "<center><font size=6>Natural Language Processing with Generative AI - Retrieval Augmented Generation</center></font>"
   ]
  },
  {
   "cell_type": "markdown",
   "metadata": {
    "id": "y1EgG25UQ3PX"
   },
   "source": [
    "<center><img src=\"https://i.ibb.co/pBF9nKpf/apple.png\" width=\"720\"></center>\n",
    "\n",
    "<center><font size=6>Apple HBR Report Document Q&A</center></font>"
   ]
  },
  {
   "cell_type": "markdown",
   "metadata": {
    "id": "A2yFgYjxL6vm"
   },
   "source": [
    "# Problem Statement"
   ]
  },
  {
   "cell_type": "markdown",
   "metadata": {
    "id": "49Hj1OD_kkWG"
   },
   "source": [
    "## Business Context"
   ]
  },
  {
   "cell_type": "markdown",
   "metadata": {
    "id": "-wMcRPLJKdE6"
   },
   "source": [
    "As organizations grow and scale, they are often inundated with large volumes of data, reports, and documents that contain critical information for decision-making. In real-world business settings, such as venture capital firms like Andreesen Horowitz, business analysts are required to sift through large datasets, research papers, or reports to extract relevant information that impacts strategic decisions.\n",
    "\n",
    "For instance, consider that you've just joined Andreesen Horowitz, a renowned venture capital firm, and you are tasked with analyzing a dense report like the Harvard Business Review's **\"How Apple is Organized for Innovation.\"** Going through the report manually can be extremely time-consuming as the size and complexity of these report increases. However, by using **Semantic Search** and **Retrieval-Augmented Generation (RAG)** models, you can significantly streamline this process.\n",
    "\n",
    "Imagine having the capability to directly ask questions like, “How does Apple structure its teams for innovation?” and get immediate, relevant answers drawn from the report. This ability to extract and organize specific insights quickly and accurately enables you to focus on higher-level analysis and decision-making, rather than being bogged down by information retrieval."
   ]
  },
  {
   "cell_type": "markdown",
   "metadata": {
    "id": "CYKE35BRkspB"
   },
   "source": [
    "## Objective"
   ]
  },
  {
   "cell_type": "markdown",
   "metadata": {
    "id": "rcksbDgdlHhA"
   },
   "source": [
    "Develop a RAG application to help business analysts efficiently extract key insights from extensive reports, such as **How Apple is Organized for Innovation**, enabling faster and more informed decision-making."
   ]
  },
  {
   "cell_type": "markdown",
   "metadata": {
    "id": "3f5p5bLolH7f"
   },
   "source": [
    "## Data Description"
   ]
  },
  {
   "cell_type": "markdown",
   "metadata": {
    "id": "KagUxRh3lKiv"
   },
   "source": [
    "**How Apple is Organized for Innovation** - An article of 11 pages in pdf format"
   ]
  },
  {
   "cell_type": "markdown",
   "metadata": {
    "id": "lnwETBOE6Bz5"
   },
   "source": [
    "# Installing and Importing Necessary Libraries and Dependencies"
   ]
  },
  {
   "cell_type": "code",
   "execution_count": null,
   "metadata": {
    "id": "new_cell_1_installs"
   },
   "outputs": [],
   "source": [
    "# Install required Python packages from the requirements file\n",
    "!pip install -r requirements.txt -q\n",
    "\n",
    "# Install llama-cpp-python with GPU (CUBLAS) support\n",
    "# This command must be run separately as it requires specific build arguments.\n",
    "!CMAKE_ARGS=\"-DLLAMA_CUBLAS=on\" FORCE_CMAKE=1 pip install llama-cpp-python==0.1.85 --force-reinstall --no-cache-dir -q"
   ]
  },
  {
   "cell_type": "code",
   "execution_count": null,
   "metadata": {
    "id": "new_cell_2_imports"
   },
   "outputs": [],
   "source": [
    "# Import custom modules and configurations\n",
    "import src.config as config\n",
    "import src.data_loader as data_loader\n",
    "import src.rag_pipeline as rag_pipeline\n",
    "import warnings\n",
    "\n",
    "warnings.filterwarnings('ignore')"
   ]
  },
  {
   "cell_type": "code",
   "execution_count": null,
   "metadata": {
    "id": "new_cell_3_pipeline"
   },
   "outputs": [],
   "source": [
    "# === Run the Full RAG Pipeline ===\n",
    "\n",
    "# 1. Load and Split the PDF\n",
    "doc_chunks = data_loader.load_and_split_pdf(\n",
    "    pdf_path=config.PDF_PATH,\n",
    "    chunk_size=config.CHUNK_SIZE,\n",
    "    chunk_overlap=config.CHUNK_OVERLAP\n",
    ")\n",
    "\n",
    "# 2. Get Embedding Function\n",
    "embedding_function = rag_pipeline.get_embedding_function(config.EMBEDDING_MODEL)\n",
    "\n",
    "# 3. Create or Load Vector DB\n",
    "vector_db = rag_pipeline.create_vector_db(\n",
    "    chunks=doc_chunks,\n",
    "    embedding_function=embedding_function,\n",
    "    persist_path=config.DB_PERSIST_PATH\n",
    ")\n",
    "\n",
    "# 4. Load the LLM\n",
    "llm = rag_pipeline.load_llm(\n",
    "    model_repo=config.MODEL_REPO,\n",
    "    model_file=config.MODEL_FILE,\n",
    "    n_gpu_layers=config.N_GPU_LAYERS,\n",
    "    n_batch=config.N_BATCH,\n",
    "    n_ctx=config.N_CTX,\n",
    "    max_tokens=config.MAX_TOKENS\n",
    ")\n",
    "\n",
    "# 5. Create the QA Chain\n",
    "qa_chain = rag_pipeline.create_qa_chain(llm, vector_db)\n",
    "\n",
    "print(\"\\n--- RAG Pipeline is Ready ---_n\")"
   ]
  },
  {
   "cell_type": "markdown",
   "metadata": {
    "id": "s805-g15_1wE"
   },
   "source": [
    "# Document Q&A"
   ]
  },
  {
   "cell_type": "markdown",
   "metadata": {
    "id": "qR8rXj2m_cI-"
   },
   "source": [
    "#### Question 1. **How is Apple organized for innovation, and what are the key features of its organizational structure?**"
   ]
  },
  {
   "cell_type": "code",
   "execution_count": null,
   "metadata": {
    "colab": {
     "base_uri": "https://localhost:8080/"
    },
    "id": "96N0n_7P_s9P",
    "outputId": "3645c36e-d5ee-4428-f685-e633d7b4205f"
   },
   "outputs": [
    {
     "data": {
      "text/plain": [
       "{'query': 'How is Apple organized for innovation, and what are the key features of its organizational structure?',\n",
       " 'result': ' Apple is organized around functional expertise rather than business units. Key features include:\n",
       "1.  **Functional Organization**: Instead of dividing the company into business units, Apple's structure is centered on functional specialties. Experts in a particular domain (like design, engineering, or software) are grouped together.\n",
       "2.  **Experts Leading Experts**: Managers at Apple are expected to have deep expertise in the functional areas they lead. They must possess credibility and knowledge in the domains of the employees they manage.\n",
       "3.  **Leadership and Expertise**: The company believes that leaders must be experts in their field to effectively guide innovation, challenge their teams, and make credible decisions.\n",
       "4.  **Disdain for Conventional Management**: Apple avoids structures where general managers, who may lack deep technical or domain expertise, oversee experts. The company values specialized knowledge in its leadership roles to foster innovation.',\n",
       " 'source_documents': [Document(page_content='How Apple Is \\nOrganized \\nfor Innovation\\nIt’s about experts \\nleading experts.', metadata={'source': 'apple_hbr.pdf', 'file_path': 'apple_hbr.pdf', 'page': 2, 'total_pages': 11, 'format': 'PDF 1.7', 'title': '', 'author': '', 'subject': '', 'keywords': '', 'creator': 'Adobe InDesign 15.1 (Macintosh)', 'producer': 'Adobe PDF Library 15.0', 'creationDate': 'D:20201014163439Z', 'modDate': 'D:20201014163439Z', 'trapped': ''}),\n",
       "  Document(page_content='a conventional structure, organized by business units, \\nand adopted a functional organization—one in which \\nthe company is structured around functional expertise \\nrather than self-contained business units. Decades \\nlater, that structure remains, even though the company \\nand its offering have grown and diversified enormously. \\nTop management’s commitment to this structure reflects \\nits belief that expertise, innovation, and efficiency can \\nbe delivered consistently only if those who are most \\nknowledgeable about specific functions are the ones \\nguiding them.\\nSecond, Apple operates with a disdain for the con-\\nventional management wisdom that a company should \\nbe led by general managers—people with high-level \\nmanagement skills who are not necessarily experts in \\nthe areas they oversee. This belief in the importance of \\nleadership with expertise runs deep within Apple and \\nis a key characteristic that distinguishes the company \\nfrom others. At Apple, experts lead experts. The logic \\nis that if you want to create credible leaders of innovative \\nwork, you must have them be experts in their particular \\nfield. Credibility is essential for fostering innovation: \\nIf leaders aren’t credible in a given domain, their teams \\nwon’t be willing to follow them. They also must have \\nthe confidence that their leader is a capable decision-\\nmaker. It is difficult to challenge and debate with a \\nteam if you don’t have expertise in their domain. This \\napproach cascades down the organization, meaning \\nthat functional managers must be deep experts in the \\ndomains they manage.', metadata={'source': 'apple_hbr.pdf', 'file_path': 'apple_hbr.pdf', 'page': 4, 'total_pages': 11, 'format': 'PDF 1.7', 'title': '', 'author': '', 'subject': '', 'keywords': '', 'creator': 'Adobe InDesign 15.1 (Macintosh)', 'producer': 'Adobe PDF Library 15.0', 'creationDate': 'D:20201014163439Z', 'modDate': 'D:20201014163439Z', 'trapped': ''})]}"
      ]
     },
     "execution_count": 59,
     "metadata": {},
     "output_type": "execute_result"
    }
   ],
   "source": [
    "qa_chain(\"How is Apple organized for innovation, and what are the key features of its organizational structure?\")"
   ]
  },
  {
   "cell_type": "markdown",
   "metadata": {
    "id": "qR8rXj2m_cI-"
   },
   "source": [
    "#### Question 2. **Can you explain the discrepancy mentioned in the report regarding Apple's spending on R&D compared to its competitors, and how this relates to their innovation strategy?**"
   ]
  },
  {
   "cell_type": "code",
   "execution_count": null,
   "metadata": {
    "colab": {
     "base_uri": "https://localhost:8080/"
    },
    "id": "yY0c-x20lqKq",
    "outputId": "ad0e227a-8bd1-4c12-efb4-f3c5f59074b1"
   },
   "outputs": [
    {
     "data": {
      "text/plain": [
       "{'query': \"Can you explain the discrepancy mentioned in the report regarding Apple's spending on R&D compared to its competitors, and how this relates to their innovation strategy?\",\n",
       " 'result': \" The report highlights a discrepancy where Apple, despite its reputation for innovation, historically spent significantly less on Research and Development (R&D) as a percentage of revenue compared to its competitors. For example, in 2012, Apple spent 2.2% of its revenue on R&D, whereas competitors like Microsoft (13%), Google (11%), and Samsung (6%) spent much more. This relates to Apple's innovation strategy, which relies on a functional organization. This structure allows Apple to avoid the duplication of R&D efforts common in business-unit-based companies, where different units might invest in similar underlying technologies (like a voice-recognition program). By organizing around functional expertise, Apple can make more-focused, efficient investments in R&D, leading to significant innovation without the corresponding high percentage of revenue spend seen in competitor companies.\",\n",
       " 'source_documents': [Document(page_content='a functional organization may also help explain \\na long-standing puzzle: How has Apple produced such \\na stellar string of innovations and succeeded in so \\nmany diverse markets when its R&D spending as a \\npercentage of revenue has often been much lower than \\nthat of its competitors? (In 2012, for example, Apple’s \\nR&D spending as a percentage of revenue was 2.2%, \\nwhereas its 10 largest competitors in the tech sector \\nspent an average of 8.4%. Its competitors’ R&D-to-\\nrevenue percentages were: Microsoft, 13%; Google, 11%; \\nIntel, 19%; Samsung, 6%; HP, 3%; IBM, 6%; Sony, 5%; \\nNokia, 13%; Panasonic, 6%; and Dell, 2%.) \\nA key reason, we believe, is that a functional orga-\\nnization allows for more-focused R&D investments \\nwithout the redundancies that are common in compa-\\nnies with business units. In a business unit structure, \\neach unit has its own R&D function, and they may \\nall invest in the same underlying technologies. For \\nexample, a voice-recognition program might be devel-\\noped by several units, whereas at Apple one functional \\nteam would develop it.', metadata={'source': 'apple_hbr.pdf', 'file_path': 'apple_hbr.pdf', 'page': 5, 'total_pages': 11, 'format': 'PDF 1.7', 'title': '', 'author': '', 'subject': '', 'keywords': '', 'creator': 'Adobe InDesign 15.1 (Macintosh)', 'producer': 'Adobe PDF Library 15.0', 'creationDate': 'D:20201014163439Z', 'modDate': 'D:20201014163439Z', 'trapped': ''}),\n",
       "  Document(page_content='a conventional structure, organized by business units, \\nand adopted a functional organization—one in which \\nthe company is structured around functional expertise \\nrather than self-contained business units. Decades \\nlater, that structure remains, even though the company \\nand its offering have grown and diversified enormously. \\nTop management’s commitment to this structure reflects \\nits belief that expertise, innovation, and efficiency can \\nbe delivered consistently only if those who are most \\nknowledgeable about specific functions are the ones \\nguiding them.\\nSecond, Apple operates with a disdain for the con-\\nventional management wisdom that a company should \\nbe led by general managers—people with high-level \\nmanagement skills who are not necessarily experts in \\nthe areas they oversee. This belief in the importance of \\nleadership with expertise runs deep within Apple and \\nis a key characteristic that distinguishes the company \\nfrom others. At Apple, experts lead experts. The logic \\nis that if you want to create credible leaders of innovative \\nwork, you must have them be experts in their particular \\nfield. Credibility is essential for fostering innovation: \\nIf leaders aren’t credible in a given domain, their teams \\nwon’t be willing to follow them. They also must have \\nthe confidence that their leader is a capable decision-\\nmaker. It is difficult to challenge and debate with a \\nteam if you don’t have expertise in their domain. This \\napproach cascades down the organization, meaning \\nthat functional managers must be deep experts in the \\ndomains they manage.', metadata={'source': 'apple_hbr.pdf', 'file_path': 'apple_hbr.pdf', 'page': 4, 'total_pages': 11, 'format': 'PDF 1.7', 'title': '', 'author': '', 'subject': '', 'keywords': '', 'creator': 'Adobe InDesign 15.1 (Macintosh)', 'producer': 'Adobe PDF Library 15.0', 'creationDate': 'D:20201014163439Z', 'modDate': 'D:20201014163439Z', 'trapped': ''})]}"
      ]
     },
     "execution_count": 60,
     "metadata": {},
     "output_type": "execute_result"
    }
   ],
   "source": [
    "qa_chain(\"Can you explain the discrepancy mentioned in the report regarding Apple's spending on R&D compared to its competitors, and how this relates to their innovation strategy?\")"
   ]
  },
  {
   "cell_type": "markdown",
   "metadata": {
    "id": "qR8rXj2m_cI-"
   },
   "source": [
    "#### Question 3. **What mechanisms does Apple use to coordinate and integrate work across its specialized functional teams?**"
   ]
  },
  {
   "cell_type": "code",
   "execution_count": null,
   "metadata": {
    "colab": {
     "base_uri": "https://localhost:8080/"
    },
    "id": "2L9X94oWpC3P",
    "outputId": "31b26c7e-07de-493e-cb19-7e5f0376d499"
   },
   "outputs": [
    {
     "data": {
      "text/plain": [
       "{'query': 'What mechanisms does Apple use to coordinate and integrate work across its specialized functional teams?',\n",
       " 'result': \" Apple relies on a process it calls the 'Apple New Product Process' (ANPP) to coordinate and integrate work. The ANPP is a clearly defined framework detailing who is responsible for what and when, serving as the primary mechanism for integrating work across the company's specialized functional teams. Additionally, the report mentions the 'Development phase' and the 'Launch phase' as specific stages within this process, suggesting a structured approach to product development and rollout that ensures different functional experts collaborate effectively.\",\n",
       " 'source_documents': [Document(page_content='Apple New Product Process (ANPP) serves as the \\nprimary mechanism for integrating that work. The ANPP \\nis a clearly defined framework that details who is respon-\\nsible for what and when.', metadata={'source': 'apple_hbr.pdf', 'file_path': 'apple_hbr.pdf', 'page': 7, 'total_pages': 11, 'format': 'PDF 1.7', 'title': '', 'author': '', 'subject': '', 'keywords': '', 'creator': 'Adobe InDesign 15.1 (Macintosh)', 'producer': 'Adobe PDF Library 15.0', 'creationDate': 'D:20201014163439Z', 'modDate': 'D:20201014163439Z', 'trapped': ''}),\n",
       "  Document(page_content='Development phase\\nLaunch phase', metadata={'source': 'apple_hbr.pdf', 'file_path': 'apple_hbr.pdf', 'page': 7, 'total_pages': 11, 'format': 'PDF 1.7', 'title': '', 'author': '', 'subject': '', 'keywords': '', 'creator': 'Adobe InDesign 15.1 (Macintosh)', 'producer': 'Adobe PDF Library 15.0', 'creationDate': 'D:20201014163439Z', 'modDate': 'D:20201014163439Z', 'trapped': ''})]}"
      ]
     },
     "execution_count": 61,
     "metadata": {},
     "output_type": "execute_result"
    }
   ],
   "source": [
    "qa_chain(\"What mechanisms does Apple use to coordinate and integrate work across its specialized functional teams?\")"
   ]
  },
  {
   "cell_type": "markdown",
   "metadata": {
    "id": "qR8rXj2m_cI-"
   },
   "source": [
    "#### Question 4. **According to the report, what is the 'DSI' index, and what does it measure at Apple?**"
   ]
  },
  {
   "cell_type": "code",
   "execution_count": null,
   "metadata": {
    "colab": {
     "base_uri": "https://localhost:8080/"
    },
    "id": "Yd16Tq35pqyq",
    "outputId": "48b61b40-9759-4d69-b5f7-66a9d20c5411"
   },
   "outputs": [
    {
     "data": {
      "text/plain": [
       "{'query': \"According to the report, what is the 'DSI' index, and what does it measure at Apple?\",\n",
       " 'result': \" According to the report, the 'DSI' index at Apple stands for 'days sales of inventory.' It is a performance metric that measures the number of days Apple holds onto its inventory before selling it. Apple maintains an extremely low DSI, indicating a very efficient supply chain and high turnover of products.\",\n",
       " 'source_documents': [Document(page_content='Apple has the lowest days sales of inventory (DSI), \\na measure of how long it holds on to inventory before \\nselling it.', metadata={'source': 'apple_hbr.pdf', 'file_path': 'apple_hbr.pdf', 'page': 5, 'total_pages': 11, 'format': 'PDF 1.7', 'title': '', 'author': '', 'subject': '', 'keywords': '', 'creator': 'Adobe InDesign 15.1 (Macintosh)', 'producer': 'Adobe PDF Library 15.0', 'creationDate': 'D:20201014163439Z', 'modDate': 'D:20201014163439Z', 'trapped': ''}),\n",
       "  Document(page_content='a functional organization may also help explain \\na long-standing puzzle: How has Apple produced such \\na stellar string of innovations and succeeded in so \\nmany diverse markets when its R&D spending as a \\npercentage of revenue has often been much lower than \\nthat of its competitors? (In 2012, for example, Apple’s \\nR&D spending as a percentage of revenue was 2.2%, \\nwhereas its 10 largest competitors in the tech sector \\nspent an average of 8.4%. Its competitors’ R&D-to-\\nrevenue percentages were: Microsoft, 13%; Google, 11%; \\nIntel, 19%; Samsung, 6%; HP, 3%; IBM, 6%; Sony, 5%; \\nNokia, 13%; Panasonic, 6%; and Dell, 2%.) \\nA key reason, we believe, is that a functional orga-\\nnization allows for more-focused R&D investments \\nwithout the redundancies that are common in compa-\\nnies with business units. In a business unit structure, \\neach unit has its own R&D function, and they may \\nall invest in the same underlying technologies. For \\nexample, a voice-recognition program might be devel-\\noped by several units, whereas at Apple one functional \\nteam would develop it.', metadata={'source': 'apple_hbr.pdf', 'file_path': 'apple_hbr.pdf', 'page': 5, 'total_pages': 11, 'format': 'PDF 1.7', 'title': '', 'author': '', 'subject': '', 'keywords': '', 'creator': 'Adobe InDesign 15.1 (Macintosh)', 'producer': 'Adobe PDF Library 15.0', 'creationDate': 'D:20201014163439Z', 'modDate': 'D:20201014163439Z', 'trapped': ''})]}"
      ]
     },
     "execution_count": 62,
     "metadata": {},
     "output_type": "execute_result"
    }
   ],
   "source": [
    "qa_chain(\"According to the report, what is the 'DSI' index, and what does it measure at Apple?\")"
   ]
  },
  {
   "cell_type": "markdown",
   "metadata": {
    "id": "qR8rXj2m_cI-"
   },
   "source": [
    "#### Question 5: **What is the Apple Fellows Program, and what purpose does it serve?**"
   ]
  },
  {
   "cell_type": "code",
   "execution_count": null,
   "metadata": {
    "colab": {
     "base_uri": "https://localhost:8080/"
    },
    "id": "tT3D8L-pq36H",
    "outputId": "3e66014b-226e-4f36-932d-9611b8559092"
   },
   "outputs": [
    {
     "data": {
      "text/plain": [
       "{'query': 'What is the Apple Fellows Program, and what purpose does it serve?',\n",
       " 'result': \" The Apple Fellows Program is a program at Apple that recognizes the company's most significant individual contributors. Its purpose is to provide these key experts with a long-term platform (career path) within the company, allowing them to continue their innovative work without having to move into management roles to advance their careers. This ensures that valuable technical and design expertise is retained and continuously leveraged.\",\n",
       " 'source_documents': [Document(page_content='a career path for its top contributors, the Apple \\nFellows Program, which recognizes the company’s most \\nsignificant individual contributors and gives them a \\nlong-term platform to continue to do their innovative \\nwork. This avoids the “move to management” trap, in \\nwhich companies promote their best technical and \\ndesign people into management roles, thus sidelining \\nthem from the work that made them so valuable.', metadata={'source': 'apple_hbr.pdf', 'file_path': 'apple_hbr.pdf', 'page': 8, 'total_pages': 11, 'format': 'PDF 1.7', 'title': '', 'author': '', 'subject': '', 'keywords': '', 'creator': 'Adobe InDesign 15.1 (Macintosh)', 'producer': 'Adobe PDF Library 15.0', 'creationDate': 'D:20201014163439Z', 'modDate': 'D:20201014163439Z', 'trapped': ''}),\n",
       "  Document(page_content='who can do that effectively at Apple, because they \\nneed to be experts. An effective leader of experts has \\nto go deep in a domain. (See the sidebar “How Apple’s \\nLeaders Learn to Be Experts.”) One way the company \\ndevelops its leaders is through the Apple Fellows \\nProgram, which we mentioned earlier. Another, perhaps \\nmore critical, way is through Apple University, the \\ncompany’s internal executive education organization.', metadata={'source': 'apple_hbr.pdf', 'file_path': 'apple_hbr.pdf', 'page': 8, 'total_pages': 11, 'format': 'PDF 1.7', 'title': '', 'author': '', 'subject': '', 'keywords': '', 'creator': 'Adobe InDesign 15.1 (Macintosh)', 'producer': 'Adobe PDF Library 15.0', 'creationDate': 'D:20201014163439Z', 'modDate': 'D:20201014163439Z', 'trapped': ''})]}"
      ]
     },
     "execution_count": 63,
     "metadata": {},
     "output_type": "execute_result"
    }
   ],
   "source": [
    "qa_chain(\"What is the Apple Fellows Program, and what purpose does it serve?\")"
   ]
  }
 ],
 "metadata": {
  "accelerator": "GPU",
  "colab": {
   "collapsed_sections": [],
   "provenance": []
  },
  "kernelspec": {
   "display_name": "Python [conda env:base] *",
   "language": "python",
   "name": "conda-base-py"
  },
  "language_info": {
   "codemirror_mode": {
    "name": "ipython",
    "version": 3
   },
   "file_extension": ".py",
   "mimetype": "text/x-python",
   "name": "python",
   "nbconvert_exporter": "python",
   "pygments_lexer": "ipython3",
   "version": "3.11.7"
  }
 },
 "nbformat": 4,
 "nbformat_minor": 4
}
